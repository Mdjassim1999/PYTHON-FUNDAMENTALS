{
 "cells": [
  {
   "cell_type": "code",
   "execution_count": 3,
   "id": "d7db1141",
   "metadata": {},
   "outputs": [],
   "source": [
    "#INTRODUCTION TO LIST DATATYPES\n",
    "\n",
    "#A LIST OF COLLECTION OF ITEM DECLARED IN A PARTICULAR ORDER\n",
    "#CLASSIFICATION- IT IS CLASSIFIED AS A MUTABLE DATATYPES"
   ]
  },
  {
   "cell_type": "code",
   "execution_count": 4,
   "id": "baf4348f",
   "metadata": {},
   "outputs": [
    {
     "name": "stdout",
     "output_type": "stream",
     "text": [
      "['jassim', 'raj', 'divya', 'sadia', 'naveen']\n"
     ]
    }
   ],
   "source": [
    "students=['jassim','raj','divya','sadia','naveen']\n",
    "print(students)"
   ]
  },
  {
   "cell_type": "code",
   "execution_count": 5,
   "id": "514374cf",
   "metadata": {},
   "outputs": [
    {
     "data": {
      "text/plain": [
       "list"
      ]
     },
     "execution_count": 5,
     "metadata": {},
     "output_type": "execute_result"
    }
   ],
   "source": [
    "type(students)"
   ]
  },
  {
   "cell_type": "code",
   "execution_count": 6,
   "id": "90f40c68",
   "metadata": {},
   "outputs": [],
   "source": [
    "#INTRODUTION TO INDEXING :0,1,2,3,4...."
   ]
  },
  {
   "cell_type": "code",
   "execution_count": 7,
   "id": "7212577e",
   "metadata": {},
   "outputs": [],
   "source": [
    "#REQ- I WANT TO GET THE DIVYA NAME IN THE OUTPUT?"
   ]
  },
  {
   "cell_type": "code",
   "execution_count": 8,
   "id": "a5836c87",
   "metadata": {},
   "outputs": [
    {
     "name": "stdout",
     "output_type": "stream",
     "text": [
      "divya\n"
     ]
    }
   ],
   "source": [
    "print(students[2])"
   ]
  },
  {
   "cell_type": "code",
   "execution_count": 9,
   "id": "3e6b6fb1",
   "metadata": {},
   "outputs": [
    {
     "name": "stdout",
     "output_type": "stream",
     "text": [
      "Divya\n"
     ]
    }
   ],
   "source": [
    "print(students[2].title())   # to get in the proper way"
   ]
  },
  {
   "cell_type": "code",
   "execution_count": 10,
   "id": "0feee833",
   "metadata": {},
   "outputs": [
    {
     "name": "stdout",
     "output_type": "stream",
     "text": [
      "Naveen\n"
     ]
    }
   ],
   "source": [
    "print(students[4].title())"
   ]
  },
  {
   "cell_type": "code",
   "execution_count": 11,
   "id": "75f749cf",
   "metadata": {},
   "outputs": [],
   "source": [
    "# I WANT TO ADD THE NEW NAME IN THE ABOVE LIST?\n",
    "#append is used for add the new name in the index"
   ]
  },
  {
   "cell_type": "code",
   "execution_count": 14,
   "id": "9ba2d96c",
   "metadata": {},
   "outputs": [
    {
     "name": "stdout",
     "output_type": "stream",
     "text": [
      "['jassim', 'raj', 'divya', 'sadia', 'naveen', 'anand', 'anand', 'ayesha']\n"
     ]
    }
   ],
   "source": [
    "students.append('ayesha')\n",
    "print(students)"
   ]
  },
  {
   "cell_type": "code",
   "execution_count": 15,
   "id": "e25cb26d",
   "metadata": {},
   "outputs": [
    {
     "name": "stdout",
     "output_type": "stream",
     "text": [
      "['jassim', 'raj', 'divya', 'sadia', 'naveen', 'anand', 'anand', 'ayesha', 'sayesha']\n"
     ]
    }
   ],
   "source": [
    "students.append('sayesha')\n",
    "print(students)"
   ]
  },
  {
   "cell_type": "code",
   "execution_count": 16,
   "id": "5536016a",
   "metadata": {},
   "outputs": [],
   "source": [
    "# i want to the new name in 2 index\n",
    "#insert is used to insert the new name in the variable index"
   ]
  },
  {
   "cell_type": "code",
   "execution_count": 19,
   "id": "053ec373",
   "metadata": {},
   "outputs": [
    {
     "name": "stdout",
     "output_type": "stream",
     "text": [
      "['jassim', 'raj', 'mohammed', 'mohammed', 'mohammed', 'divya', 'sadia', 'naveen', 'anand', 'anand', 'ayesha', 'sayesha']\n"
     ]
    }
   ],
   "source": [
    "students.insert(2,'mohammed')\n",
    "print(students)"
   ]
  },
  {
   "cell_type": "code",
   "execution_count": 21,
   "id": "e2718664",
   "metadata": {},
   "outputs": [
    {
     "name": "stdout",
     "output_type": "stream",
     "text": [
      "Mohammed\n"
     ]
    }
   ],
   "source": [
    "print(students[2].title())"
   ]
  },
  {
   "cell_type": "code",
   "execution_count": 22,
   "id": "6ab82a1c",
   "metadata": {},
   "outputs": [],
   "source": [
    "# i want to modify divya name to dhanya...?"
   ]
  },
  {
   "cell_type": "code",
   "execution_count": 24,
   "id": "1fa4a157",
   "metadata": {},
   "outputs": [
    {
     "name": "stdout",
     "output_type": "stream",
     "text": [
      "['jassim', 'raj', 'mohammed', 'dhanya', 'mohammed', 'divya', 'sadia', 'naveen', 'anand', 'anand', 'ayesha', 'sayesha']\n"
     ]
    }
   ],
   "source": [
    "students[3]='dhanya'\n",
    "print(students)"
   ]
  },
  {
   "cell_type": "code",
   "execution_count": 25,
   "id": "05032dc4",
   "metadata": {},
   "outputs": [],
   "source": [
    "#i want to delete the name in the index"
   ]
  },
  {
   "cell_type": "code",
   "execution_count": 26,
   "id": "67f30048",
   "metadata": {},
   "outputs": [
    {
     "name": "stdout",
     "output_type": "stream",
     "text": [
      "['jassim', 'raj', 'mohammed', 'dhanya', 'divya', 'sadia', 'naveen', 'anand', 'anand', 'ayesha', 'sayesha']\n"
     ]
    }
   ],
   "source": [
    "del students[4]   #it is used for permanant delete\n",
    "print(students)"
   ]
  },
  {
   "cell_type": "code",
   "execution_count": 27,
   "id": "a04d4d1f",
   "metadata": {},
   "outputs": [],
   "source": [
    " #pop- by default it will be deleting the last elements from the list and will be saving in the variable assigned"
   ]
  },
  {
   "cell_type": "code",
   "execution_count": 28,
   "id": "087fe76b",
   "metadata": {},
   "outputs": [
    {
     "name": "stdout",
     "output_type": "stream",
     "text": [
      "['jassim', 'raj', 'mohammed', 'dhanya', 'divya', 'sadia', 'naveen', 'anand', 'anand', 'ayesha']\n"
     ]
    }
   ],
   "source": [
    "x=students.pop()\n",
    "print(students)"
   ]
  },
  {
   "cell_type": "code",
   "execution_count": 29,
   "id": "54069694",
   "metadata": {},
   "outputs": [
    {
     "name": "stdout",
     "output_type": "stream",
     "text": [
      "sayesha\n"
     ]
    }
   ],
   "source": [
    "print(x)"
   ]
  },
  {
   "cell_type": "code",
   "execution_count": 30,
   "id": "7ad59123",
   "metadata": {},
   "outputs": [],
   "source": [
    "#introduction to negative indexing"
   ]
  },
  {
   "cell_type": "code",
   "execution_count": 32,
   "id": "4c245530",
   "metadata": {},
   "outputs": [
    {
     "name": "stdout",
     "output_type": "stream",
     "text": [
      "ayesha\n"
     ]
    }
   ],
   "source": [
    "print(students[-1])"
   ]
  },
  {
   "cell_type": "code",
   "execution_count": null,
   "id": "1d30c511",
   "metadata": {},
   "outputs": [],
   "source": []
  }
 ],
 "metadata": {
  "kernelspec": {
   "display_name": "Python 3 (ipykernel)",
   "language": "python",
   "name": "python3"
  },
  "language_info": {
   "codemirror_mode": {
    "name": "ipython",
    "version": 3
   },
   "file_extension": ".py",
   "mimetype": "text/x-python",
   "name": "python",
   "nbconvert_exporter": "python",
   "pygments_lexer": "ipython3",
   "version": "3.9.13"
  }
 },
 "nbformat": 4,
 "nbformat_minor": 5
}
