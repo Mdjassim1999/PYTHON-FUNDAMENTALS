{
 "cells": [
  {
   "cell_type": "code",
   "execution_count": 2,
   "id": "1132cce3",
   "metadata": {},
   "outputs": [
    {
     "name": "stdout",
     "output_type": "stream",
     "text": [
      "8\n"
     ]
    }
   ],
   "source": [
    "x = 5\n",
    "y = 3\n",
    "z = x+y\n",
    "print(z) #understanding variables in python"
   ]
  },
  {
   "cell_type": "code",
   "execution_count": 3,
   "id": "2117838c",
   "metadata": {},
   "outputs": [
    {
     "name": "stdout",
     "output_type": "stream",
     "text": [
      "jassim\n"
     ]
    }
   ],
   "source": [
    "firstname = 'jassim'\n",
    "print(firstname)  #no namespaces in while declarling the variable"
   ]
  },
  {
   "cell_type": "code",
   "execution_count": 4,
   "id": "7933b03a",
   "metadata": {},
   "outputs": [
    {
     "name": "stdout",
     "output_type": "stream",
     "text": [
      "jassim\n"
     ]
    }
   ],
   "source": [
    "first_name ='jassim'\n",
    "print(first_name) #we can also use this"
   ]
  },
  {
   "cell_type": "code",
   "execution_count": 5,
   "id": "8d93a699",
   "metadata": {},
   "outputs": [
    {
     "name": "stdout",
     "output_type": "stream",
     "text": [
      "jassim\n"
     ]
    }
   ],
   "source": [
    "name1 ='jassim'\n",
    "print(name1)   #variable name should not start with number,but we can use the number at anywhere in the variable instead at starting."
   ]
  },
  {
   "cell_type": "code",
   "execution_count": 7,
   "id": "bf17be9b",
   "metadata": {
    "scrolled": true
   },
   "outputs": [],
   "source": [
    "#usage of string"
   ]
  },
  {
   "cell_type": "code",
   "execution_count": 8,
   "id": "68cb0c3c",
   "metadata": {},
   "outputs": [
    {
     "name": "stdout",
     "output_type": "stream",
     "text": [
      "mohammed jassim\n"
     ]
    }
   ],
   "source": [
    "fullname ='mohammed jassim'\n",
    "print(fullname)  #normal string"
   ]
  },
  {
   "cell_type": "code",
   "execution_count": 9,
   "id": "d556531b",
   "metadata": {},
   "outputs": [
    {
     "name": "stdout",
     "output_type": "stream",
     "text": [
      "Mohammed Jassim\n"
     ]
    }
   ],
   "source": [
    "fullname ='mohammed jassim'\n",
    "print(fullname.title())  # to get in the right format"
   ]
  },
  {
   "cell_type": "code",
   "execution_count": 10,
   "id": "c22edbd3",
   "metadata": {},
   "outputs": [
    {
     "name": "stdout",
     "output_type": "stream",
     "text": [
      "MOHAMMED JASSIM\n"
     ]
    }
   ],
   "source": [
    "fullname ='mohammed jassim'\n",
    "print(fullname.upper())  #to get everything in capital letters"
   ]
  },
  {
   "cell_type": "code",
   "execution_count": 11,
   "id": "0c8125c1",
   "metadata": {},
   "outputs": [
    {
     "name": "stdout",
     "output_type": "stream",
     "text": [
      "mohammed jassim\n"
     ]
    }
   ],
   "source": [
    "fullname ='mohammed jassim'\n",
    "print(fullname.lower())  #to get everything in small letters"
   ]
  },
  {
   "cell_type": "code",
   "execution_count": null,
   "id": "4141bb4f",
   "metadata": {},
   "outputs": [],
   "source": []
  }
 ],
 "metadata": {
  "kernelspec": {
   "display_name": "Python 3 (ipykernel)",
   "language": "python",
   "name": "python3"
  },
  "language_info": {
   "codemirror_mode": {
    "name": "ipython",
    "version": 3
   },
   "file_extension": ".py",
   "mimetype": "text/x-python",
   "name": "python",
   "nbconvert_exporter": "python",
   "pygments_lexer": "ipython3",
   "version": "3.9.13"
  }
 },
 "nbformat": 4,
 "nbformat_minor": 5
}
