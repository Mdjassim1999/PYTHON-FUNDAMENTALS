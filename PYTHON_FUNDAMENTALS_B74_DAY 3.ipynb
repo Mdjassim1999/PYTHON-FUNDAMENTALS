{
 "cells": [
  {
   "cell_type": "code",
   "execution_count": 1,
   "id": "59712eca",
   "metadata": {},
   "outputs": [],
   "source": [
    "#usage of f strings"
   ]
  },
  {
   "cell_type": "code",
   "execution_count": 5,
   "id": "9b0d434c",
   "metadata": {},
   "outputs": [
    {
     "name": "stdout",
     "output_type": "stream",
     "text": [
      "mohammed jassim\n"
     ]
    }
   ],
   "source": [
    "first_name ='mohammed'\n",
    "last_name ='jassim'\n",
    "full_name = f\"{first_name} {last_name}\"\n",
    "print(full_name)          #to get a full name"
   ]
  },
  {
   "cell_type": "code",
   "execution_count": 4,
   "id": "1cbd6e2e",
   "metadata": {},
   "outputs": [
    {
     "name": "stdout",
     "output_type": "stream",
     "text": [
      "Mohammed Jassim\n"
     ]
    }
   ],
   "source": [
    "first_name ='mohammed'\n",
    "last_name ='jassim'\n",
    "full_name = f\"{first_name} {last_name}\"\n",
    "print(full_name.title())    #to get the output in the proper manner by using title string"
   ]
  },
  {
   "cell_type": "code",
   "execution_count": 8,
   "id": "dde443c4",
   "metadata": {},
   "outputs": [
    {
     "name": "stdout",
     "output_type": "stream",
     "text": [
      "KEEP UP THE GOOD WORK,Mohammed Jassim\n"
     ]
    }
   ],
   "source": [
    "first_name ='mohammed'\n",
    "last_name ='jassim'\n",
    "full_name = f\"{first_name} {last_name}\"\n",
    "message =f\"KEEP UP THE GOOD WORK,{full_name.title()}\"\n",
    "print(message)              #f string with custom word"
   ]
  },
  {
   "cell_type": "code",
   "execution_count": 9,
   "id": "a010fa5c",
   "metadata": {},
   "outputs": [],
   "source": [
    "#ADDING THE WHITE SPACES"
   ]
  },
  {
   "cell_type": "code",
   "execution_count": 11,
   "id": "ba56ad67",
   "metadata": {},
   "outputs": [
    {
     "name": "stdout",
     "output_type": "stream",
     "text": [
      "my favourite programming language:pythonjavac++\n"
     ]
    }
   ],
   "source": [
    "print(\"my favourite programming language:pythonjavac++\")   #this should be in inproper manner"
   ]
  },
  {
   "cell_type": "code",
   "execution_count": 12,
   "id": "0730fc12",
   "metadata": {},
   "outputs": [
    {
     "name": "stdout",
     "output_type": "stream",
     "text": [
      "my favourite programming language:\n",
      "python\n",
      "java\n",
      "c++\n"
     ]
    }
   ],
   "source": [
    "print(\"my favourite programming language:\\npython\\njava\\nc++\")     #\\n is used for new line delimiter"
   ]
  },
  {
   "cell_type": "code",
   "execution_count": 13,
   "id": "5156c5e2",
   "metadata": {},
   "outputs": [
    {
     "name": "stdout",
     "output_type": "stream",
     "text": [
      "my favourite programming language:\n",
      "\tpython\n",
      "\tjava\n",
      "\tc++\n"
     ]
    }
   ],
   "source": [
    "print(\"my favourite programming language:\\n\\tpython\\n\\tjava\\n\\tc++\")    #\\t is used for tab delimiter"
   ]
  },
  {
   "cell_type": "code",
   "execution_count": 14,
   "id": "4f86aa25",
   "metadata": {},
   "outputs": [],
   "source": [
    "#REMOVING WHITESPACES FROM STRINGS"
   ]
  },
  {
   "cell_type": "code",
   "execution_count": 15,
   "id": "74c2e346",
   "metadata": {},
   "outputs": [
    {
     "name": "stdout",
     "output_type": "stream",
     "text": [
      "pyhton\n"
     ]
    }
   ],
   "source": [
    "name='pyhton'\n",
    "print(name)    #general way of output"
   ]
  },
  {
   "cell_type": "code",
   "execution_count": 18,
   "id": "326080bc",
   "metadata": {},
   "outputs": [
    {
     "name": "stdout",
     "output_type": "stream",
     "text": [
      "    pyhton\n"
     ]
    }
   ],
   "source": [
    "name2='    pyhton'\n",
    "print(name2)      #additional sapces in right side"
   ]
  },
  {
   "cell_type": "code",
   "execution_count": 19,
   "id": "1abb1b4a",
   "metadata": {},
   "outputs": [
    {
     "name": "stdout",
     "output_type": "stream",
     "text": [
      "python\n"
     ]
    }
   ],
   "source": [
    "name2='    python'\n",
    "print(name2.lstrip())   #by using lstrip we can remove the unwanted spaces from left side"
   ]
  },
  {
   "cell_type": "code",
   "execution_count": 21,
   "id": "90c612f5",
   "metadata": {},
   "outputs": [
    {
     "name": "stdout",
     "output_type": "stream",
     "text": [
      "python\n"
     ]
    }
   ],
   "source": [
    "name3='python     '\n",
    "print(name3.rstrip())   #by using rstrip we can remove the unwanted spaces from right side"
   ]
  },
  {
   "cell_type": "code",
   "execution_count": 23,
   "id": "e98452f8",
   "metadata": {},
   "outputs": [
    {
     "name": "stdout",
     "output_type": "stream",
     "text": [
      "python\n"
     ]
    }
   ],
   "source": [
    "name4='    python   '\n",
    "print(name4.strip())    #by using only strip command we remove the unwamted spaces from both the sides"
   ]
  },
  {
   "cell_type": "code",
   "execution_count": null,
   "id": "9619bcd1",
   "metadata": {},
   "outputs": [],
   "source": []
  }
 ],
 "metadata": {
  "kernelspec": {
   "display_name": "Python 3 (ipykernel)",
   "language": "python",
   "name": "python3"
  },
  "language_info": {
   "codemirror_mode": {
    "name": "ipython",
    "version": 3
   },
   "file_extension": ".py",
   "mimetype": "text/x-python",
   "name": "python",
   "nbconvert_exporter": "python",
   "pygments_lexer": "ipython3",
   "version": "3.9.13"
  }
 },
 "nbformat": 4,
 "nbformat_minor": 5
}
