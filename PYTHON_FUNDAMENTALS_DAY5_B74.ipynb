{
 "cells": [
  {
   "cell_type": "code",
   "execution_count": 2,
   "id": "345ba624",
   "metadata": {},
   "outputs": [],
   "source": [
    "#WORKING WITH THE LSIT DATATYPES\n",
    "#ORGANISING THE LIST DATATYPES"
   ]
  },
  {
   "cell_type": "raw",
   "id": "2b5a32c1",
   "metadata": {},
   "source": []
  },
  {
   "cell_type": "code",
   "execution_count": 3,
   "id": "e82b40d4",
   "metadata": {},
   "outputs": [
    {
     "name": "stdout",
     "output_type": "stream",
     "text": [
      "['kia', 'bmw', 'audi', 'honda', 'benz', 'lambo']\n"
     ]
    }
   ],
   "source": [
    "cars=['kia','bmw','audi','honda','benz','lambo']\n",
    "print(cars)"
   ]
  },
  {
   "cell_type": "code",
   "execution_count": 5,
   "id": "9c27d2d4",
   "metadata": {},
   "outputs": [],
   "source": [
    "#req - i want to print the list int the alphebatical order---->a-z\n",
    "#two approach 1.temporary approaches--->sorted\n",
    "#             2.permanant approaches--->sort\n",
    "\n",
    "#temproary approaches--->we can maintain the orginal order of the list\n",
    "#permanent approaches--->changes are applied permanently"
   ]
  },
  {
   "cell_type": "code",
   "execution_count": 6,
   "id": "16a51da0",
   "metadata": {},
   "outputs": [
    {
     "name": "stdout",
     "output_type": "stream",
     "text": [
      "['audi', 'benz', 'bmw', 'honda', 'kia', 'lambo']\n"
     ]
    }
   ],
   "source": [
    "print(sorted(cars))   #temporary approach -->it is corrected in the alphebatical way"
   ]
  },
  {
   "cell_type": "code",
   "execution_count": 7,
   "id": "c6d0e6f8",
   "metadata": {},
   "outputs": [
    {
     "name": "stdout",
     "output_type": "stream",
     "text": [
      "['audi', 'benz', 'bmw', 'honda', 'kia', 'lambo']\n"
     ]
    }
   ],
   "source": [
    "cars.sort()         #the changes are made is permanent\n",
    "print(cars)"
   ]
  },
  {
   "cell_type": "code",
   "execution_count": 8,
   "id": "747a0e32",
   "metadata": {},
   "outputs": [],
   "source": [
    "#req- i want to print the list in the reverse order"
   ]
  },
  {
   "cell_type": "code",
   "execution_count": 9,
   "id": "6a98f224",
   "metadata": {},
   "outputs": [
    {
     "name": "stdout",
     "output_type": "stream",
     "text": [
      "['lambo', 'kia', 'honda', 'bmw', 'benz', 'audi']\n"
     ]
    }
   ],
   "source": [
    "cars.reverse()\n",
    "print(cars)"
   ]
  },
  {
   "cell_type": "code",
   "execution_count": 10,
   "id": "e935a617",
   "metadata": {},
   "outputs": [],
   "source": [
    "#req- i want to know the no of elements in the list....?"
   ]
  },
  {
   "cell_type": "code",
   "execution_count": 11,
   "id": "bda5ebac",
   "metadata": {},
   "outputs": [
    {
     "data": {
      "text/plain": [
       "6"
      ]
     },
     "execution_count": 11,
     "metadata": {},
     "output_type": "execute_result"
    }
   ],
   "source": [
    "len(cars)"
   ]
  },
  {
   "cell_type": "code",
   "execution_count": 12,
   "id": "e22cb2f8",
   "metadata": {},
   "outputs": [],
   "source": [
    "#INTRODUCTION TO SLICING"
   ]
  },
  {
   "cell_type": "code",
   "execution_count": 14,
   "id": "184fe159",
   "metadata": {},
   "outputs": [
    {
     "name": "stdout",
     "output_type": "stream",
     "text": [
      "['jassim', 'raj', 'sadia', 'umaira', 'ayesha']\n"
     ]
    }
   ],
   "source": [
    "students=['jassim','raj','sadia','umaira','ayesha']\n",
    "print(students)"
   ]
  },
  {
   "cell_type": "code",
   "execution_count": 15,
   "id": "f9192bb7",
   "metadata": {},
   "outputs": [
    {
     "data": {
      "text/plain": [
       "list"
      ]
     },
     "execution_count": 15,
     "metadata": {},
     "output_type": "execute_result"
    }
   ],
   "source": [
    "type(students)"
   ]
  },
  {
   "cell_type": "code",
   "execution_count": 17,
   "id": "631bf886",
   "metadata": {},
   "outputs": [],
   "source": [
    "#general syntax of slicing  [start value:stop value:step count]\n",
    "#note---> stop value is always exclusive- to include we have to increament the index by +1"
   ]
  },
  {
   "cell_type": "code",
   "execution_count": 18,
   "id": "92c3b26d",
   "metadata": {},
   "outputs": [],
   "source": [
    "#req---> i want to jassim and raj in the output...?"
   ]
  },
  {
   "cell_type": "code",
   "execution_count": 19,
   "id": "be39b32f",
   "metadata": {},
   "outputs": [
    {
     "name": "stdout",
     "output_type": "stream",
     "text": [
      "['jassim']\n"
     ]
    }
   ],
   "source": [
    "print(students[0:1])   # it show only the single name because the increament value is not properly added"
   ]
  },
  {
   "cell_type": "code",
   "execution_count": 20,
   "id": "36079ce3",
   "metadata": {},
   "outputs": [
    {
     "name": "stdout",
     "output_type": "stream",
     "text": [
      "['jassim', 'raj']\n"
     ]
    }
   ],
   "source": [
    "print(students[0:2])"
   ]
  },
  {
   "cell_type": "code",
   "execution_count": 21,
   "id": "47550e13",
   "metadata": {},
   "outputs": [
    {
     "name": "stdout",
     "output_type": "stream",
     "text": [
      "['sadia', 'umaira']\n"
     ]
    }
   ],
   "source": [
    "print(students[2:4])"
   ]
  },
  {
   "cell_type": "code",
   "execution_count": 22,
   "id": "1520a080",
   "metadata": {},
   "outputs": [],
   "source": [
    "# by adding step count"
   ]
  },
  {
   "cell_type": "code",
   "execution_count": 28,
   "id": "282102a7",
   "metadata": {},
   "outputs": [
    {
     "name": "stdout",
     "output_type": "stream",
     "text": [
      "['jassim', 'sadia', 'ayesha']\n"
     ]
    }
   ],
   "source": [
    "print(students[0:8:2])"
   ]
  },
  {
   "cell_type": "code",
   "execution_count": null,
   "id": "b1b5a584",
   "metadata": {},
   "outputs": [],
   "source": []
  }
 ],
 "metadata": {
  "kernelspec": {
   "display_name": "Python 3 (ipykernel)",
   "language": "python",
   "name": "python3"
  },
  "language_info": {
   "codemirror_mode": {
    "name": "ipython",
    "version": 3
   },
   "file_extension": ".py",
   "mimetype": "text/x-python",
   "name": "python",
   "nbconvert_exporter": "python",
   "pygments_lexer": "ipython3",
   "version": "3.9.13"
  }
 },
 "nbformat": 4,
 "nbformat_minor": 5
}
